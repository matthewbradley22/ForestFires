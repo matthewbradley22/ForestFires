{
 "cells": [
  {
   "cell_type": "code",
   "execution_count": 151,
   "metadata": {},
   "outputs": [],
   "source": [
    "#Import libraries\n",
    "from sklearn import metrics\n",
    "import pandas as pd\n",
    "import numpy as np\n",
    "from sklearn.tree import DecisionTreeRegressor\n",
    "from sklearn import svm\n",
    "import matplotlib.pyplot as plt\n",
    "from sklearn.model_selection import train_test_split\n",
    "from sklearn import tree\n",
    "from sklearn import ensemble\n",
    "from sklearn.metrics import accuracy_score\n",
    "from sklearn.model_selection import cross_val_score\n",
    "from sklearn.preprocessing import StandardScaler\n",
    "from sklearn.neighbors import KNeighborsClassifier\n",
    "from sklearn.metrics import confusion_matrix,accuracy_score\n",
    "from sklearn.metrics import plot_confusion_matrix\n",
    "from sklearn.metrics import precision_score\n",
    "from sklearn.metrics import recall_score\n",
    "from sklearn.ensemble import RandomForestClassifier\n",
    "\n",
    "#Read in data\n",
    "df = pd.read_csv(\"forestfires.csv\") "
   ]
  },
  {
   "cell_type": "code",
   "execution_count": 152,
   "metadata": {
    "scrolled": true
   },
   "outputs": [
    {
     "data": {
      "text/html": [
       "<div>\n",
       "<style scoped>\n",
       "    .dataframe tbody tr th:only-of-type {\n",
       "        vertical-align: middle;\n",
       "    }\n",
       "\n",
       "    .dataframe tbody tr th {\n",
       "        vertical-align: top;\n",
       "    }\n",
       "\n",
       "    .dataframe thead th {\n",
       "        text-align: right;\n",
       "    }\n",
       "</style>\n",
       "<table border=\"1\" class=\"dataframe\">\n",
       "  <thead>\n",
       "    <tr style=\"text-align: right;\">\n",
       "      <th></th>\n",
       "      <th>X</th>\n",
       "      <th>Y</th>\n",
       "      <th>FFMC</th>\n",
       "      <th>DMC</th>\n",
       "      <th>DC</th>\n",
       "      <th>ISI</th>\n",
       "      <th>temp</th>\n",
       "      <th>RH</th>\n",
       "      <th>wind</th>\n",
       "      <th>rain</th>\n",
       "      <th>area</th>\n",
       "    </tr>\n",
       "  </thead>\n",
       "  <tbody>\n",
       "    <tr>\n",
       "      <th>count</th>\n",
       "      <td>517.000000</td>\n",
       "      <td>517.000000</td>\n",
       "      <td>517.000000</td>\n",
       "      <td>517.000000</td>\n",
       "      <td>517.000000</td>\n",
       "      <td>517.000000</td>\n",
       "      <td>517.000000</td>\n",
       "      <td>517.000000</td>\n",
       "      <td>517.000000</td>\n",
       "      <td>517.000000</td>\n",
       "      <td>517.000000</td>\n",
       "    </tr>\n",
       "    <tr>\n",
       "      <th>mean</th>\n",
       "      <td>4.669246</td>\n",
       "      <td>4.299807</td>\n",
       "      <td>90.644681</td>\n",
       "      <td>110.872340</td>\n",
       "      <td>547.940039</td>\n",
       "      <td>9.021663</td>\n",
       "      <td>18.889168</td>\n",
       "      <td>44.288201</td>\n",
       "      <td>4.017602</td>\n",
       "      <td>0.021663</td>\n",
       "      <td>12.847292</td>\n",
       "    </tr>\n",
       "    <tr>\n",
       "      <th>std</th>\n",
       "      <td>2.313778</td>\n",
       "      <td>1.229900</td>\n",
       "      <td>5.520111</td>\n",
       "      <td>64.046482</td>\n",
       "      <td>248.066192</td>\n",
       "      <td>4.559477</td>\n",
       "      <td>5.806625</td>\n",
       "      <td>16.317469</td>\n",
       "      <td>1.791653</td>\n",
       "      <td>0.295959</td>\n",
       "      <td>63.655818</td>\n",
       "    </tr>\n",
       "    <tr>\n",
       "      <th>min</th>\n",
       "      <td>1.000000</td>\n",
       "      <td>2.000000</td>\n",
       "      <td>18.700000</td>\n",
       "      <td>1.100000</td>\n",
       "      <td>7.900000</td>\n",
       "      <td>0.000000</td>\n",
       "      <td>2.200000</td>\n",
       "      <td>15.000000</td>\n",
       "      <td>0.400000</td>\n",
       "      <td>0.000000</td>\n",
       "      <td>0.000000</td>\n",
       "    </tr>\n",
       "    <tr>\n",
       "      <th>25%</th>\n",
       "      <td>3.000000</td>\n",
       "      <td>4.000000</td>\n",
       "      <td>90.200000</td>\n",
       "      <td>68.600000</td>\n",
       "      <td>437.700000</td>\n",
       "      <td>6.500000</td>\n",
       "      <td>15.500000</td>\n",
       "      <td>33.000000</td>\n",
       "      <td>2.700000</td>\n",
       "      <td>0.000000</td>\n",
       "      <td>0.000000</td>\n",
       "    </tr>\n",
       "    <tr>\n",
       "      <th>50%</th>\n",
       "      <td>4.000000</td>\n",
       "      <td>4.000000</td>\n",
       "      <td>91.600000</td>\n",
       "      <td>108.300000</td>\n",
       "      <td>664.200000</td>\n",
       "      <td>8.400000</td>\n",
       "      <td>19.300000</td>\n",
       "      <td>42.000000</td>\n",
       "      <td>4.000000</td>\n",
       "      <td>0.000000</td>\n",
       "      <td>0.520000</td>\n",
       "    </tr>\n",
       "    <tr>\n",
       "      <th>75%</th>\n",
       "      <td>7.000000</td>\n",
       "      <td>5.000000</td>\n",
       "      <td>92.900000</td>\n",
       "      <td>142.400000</td>\n",
       "      <td>713.900000</td>\n",
       "      <td>10.800000</td>\n",
       "      <td>22.800000</td>\n",
       "      <td>53.000000</td>\n",
       "      <td>4.900000</td>\n",
       "      <td>0.000000</td>\n",
       "      <td>6.570000</td>\n",
       "    </tr>\n",
       "    <tr>\n",
       "      <th>max</th>\n",
       "      <td>9.000000</td>\n",
       "      <td>9.000000</td>\n",
       "      <td>96.200000</td>\n",
       "      <td>291.300000</td>\n",
       "      <td>860.600000</td>\n",
       "      <td>56.100000</td>\n",
       "      <td>33.300000</td>\n",
       "      <td>100.000000</td>\n",
       "      <td>9.400000</td>\n",
       "      <td>6.400000</td>\n",
       "      <td>1090.840000</td>\n",
       "    </tr>\n",
       "  </tbody>\n",
       "</table>\n",
       "</div>"
      ],
      "text/plain": [
       "                X           Y        FFMC         DMC          DC         ISI  \\\n",
       "count  517.000000  517.000000  517.000000  517.000000  517.000000  517.000000   \n",
       "mean     4.669246    4.299807   90.644681  110.872340  547.940039    9.021663   \n",
       "std      2.313778    1.229900    5.520111   64.046482  248.066192    4.559477   \n",
       "min      1.000000    2.000000   18.700000    1.100000    7.900000    0.000000   \n",
       "25%      3.000000    4.000000   90.200000   68.600000  437.700000    6.500000   \n",
       "50%      4.000000    4.000000   91.600000  108.300000  664.200000    8.400000   \n",
       "75%      7.000000    5.000000   92.900000  142.400000  713.900000   10.800000   \n",
       "max      9.000000    9.000000   96.200000  291.300000  860.600000   56.100000   \n",
       "\n",
       "             temp          RH        wind        rain         area  \n",
       "count  517.000000  517.000000  517.000000  517.000000   517.000000  \n",
       "mean    18.889168   44.288201    4.017602    0.021663    12.847292  \n",
       "std      5.806625   16.317469    1.791653    0.295959    63.655818  \n",
       "min      2.200000   15.000000    0.400000    0.000000     0.000000  \n",
       "25%     15.500000   33.000000    2.700000    0.000000     0.000000  \n",
       "50%     19.300000   42.000000    4.000000    0.000000     0.520000  \n",
       "75%     22.800000   53.000000    4.900000    0.000000     6.570000  \n",
       "max     33.300000  100.000000    9.400000    6.400000  1090.840000  "
      ]
     },
     "execution_count": 152,
     "metadata": {},
     "output_type": "execute_result"
    }
   ],
   "source": [
    "#Qucik look at basic summary stats\n",
    "df.describe()"
   ]
  },
  {
   "cell_type": "code",
   "execution_count": 153,
   "metadata": {},
   "outputs": [],
   "source": [
    "#Define a new column that indicates whether or not there was a fire greater than 0. Will\n",
    "#use this to train a classsifier before regression.\n",
    "def f(row):\n",
    "    if row['area'] == 0:\n",
    "        val = 0\n",
    "    else:\n",
    "        val = 1\n",
    "    return val\n",
    "\n",
    "df['fire'] = df.apply(f, axis=1)\n",
    "\n",
    "#Create a log transformed area to do regression analysis with.\n",
    "df['logArea'] = np.log(df.area + 1)"
   ]
  },
  {
   "cell_type": "code",
   "execution_count": 154,
   "metadata": {
    "scrolled": true
   },
   "outputs": [],
   "source": [
    "#Define predictor and target variables\n",
    "X = df[df.columns[0:12]]\n",
    "X = pd.get_dummies(X)\n",
    "X = X._get_numeric_data()\n",
    "y = df[df.columns[13:14]]\n",
    "\n",
    "#Create train and test data sets for classificattion\n",
    "X_train, X_test, y_train, y_test = train_test_split(X, y, random_state=0) "
   ]
  },
  {
   "cell_type": "code",
   "execution_count": 155,
   "metadata": {},
   "outputs": [],
   "source": [
    "##Create several classification models to find best one to determine whether or not a fire of \n",
    "#greater than size 0 occured.\n",
    "\n",
    "#Scale data\n",
    "sc = StandardScaler()\n",
    "X_scaled = sc.fit_transform(X_train)\n",
    "X_test = sc.transform(X_test)\n",
    "\n",
    "#SVC classifier\n",
    "svcClf = svm.SVC()\n",
    "svcClf.fit(X_scaled,y_train.values.ravel())\n",
    "y_pred_svc = svcClf.predict(X_test)\n",
    "\n",
    "#Knn classifier\n",
    "knn = KNeighborsClassifier(n_neighbors = 5)\n",
    "knn.fit(X_scaled, y_train.values.ravel())\n",
    "y_pred_knn = knn.predict(X_test)\n",
    "\n",
    "#Random forest classifier\n",
    "rf=RandomForestClassifier(n_estimators=100)\n",
    "rf.fit(X_scaled,y_train.values.ravel())\n",
    "y_pred_rf = rf.predict(X_test)"
   ]
  },
  {
   "cell_type": "code",
   "execution_count": 156,
   "metadata": {
    "scrolled": false
   },
   "outputs": [
    {
     "name": "stdout",
     "output_type": "stream",
     "text": [
      "svc results\n",
      "[[26 30]\n",
      " [39 35]]\n",
      "SVC accuracy: 0.46923076923076923\n",
      "SVC Precision:  0.5384615384615384\n",
      "SVC Recall:  0.47297297297297297\n",
      "\n",
      "knn results\n",
      "[[20 36]\n",
      " [31 43]]\n",
      "knn accuracy: 0.4846153846153846\n",
      "Knn Precision:  0.5443037974683544\n",
      "Knn Recall:  0.581081081081081\n",
      "\n",
      "random forest results\n",
      "[[34 22]\n",
      " [31 43]]\n",
      "rf accuracy: 0.5923076923076923\n",
      "rf Precision:  0.6615384615384615\n",
      "rf Recall:  0.581081081081081\n"
     ]
    },
    {
     "data": {
      "image/png": "[encoded data removed]",
      "text/plain": [
       "<Figure size 432x288 with 2 Axes>"
      ]
     },
     "metadata": {
      "needs_background": "light"
     },
     "output_type": "display_data"
    },
    {
     "data": {
      "image/png": "[encoded data removed]",
      "text/plain": [
       "<Figure size 432x288 with 2 Axes>"
      ]
     },
     "metadata": {
      "needs_background": "light"
     },
     "output_type": "display_data"
    },
    {
     "data": {
      "image/png": "[encoded data removed]",
      "text/plain": [
       "<Figure size 432x288 with 2 Axes>"
      ]
     },
     "metadata": {
      "needs_background": "light"
     },
     "output_type": "display_data"
    }
   ],
   "source": [
    "#Visualize results of classification tasks\n",
    "\n",
    "print(\"svc results\")\n",
    "disp = plot_confusion_matrix(svcClf, X_test, y_test)\n",
    "print(disp.confusion_matrix) \n",
    "print(\"SVC accuracy:\", accuracy_score(y_test,y_pred_svc))\n",
    "precisionsvc = precision_score(y_test, y_pred_svc)\n",
    "recallsvc = recall_score(y_test, y_pred_svc)\n",
    "print('SVC Precision: ',precisionsvc)\n",
    "print('SVC Recall: ',recallsvc)\n",
    "\n",
    "\n",
    "\n",
    "print(\"\\nknn results\")\n",
    "disp = plot_confusion_matrix(knn, X_test, y_test)\n",
    "print(disp.confusion_matrix) \n",
    "print(\"knn accuracy:\", accuracy_score(y_test,y_pred_knn))\n",
    "precisionknn = precision_score(y_test, y_pred_knn)\n",
    "recallknn = recall_score(y_test, y_pred_knn)\n",
    "print('Knn Precision: ',precisionknn)\n",
    "print('Knn Recall: ',recallknn)\n",
    "\n",
    "\n",
    "print(\"\\nrandom forest results\")\n",
    "disp = plot_confusion_matrix(rf, X_test, y_test)\n",
    "print(disp.confusion_matrix) \n",
    "print(\"rf accuracy:\", accuracy_score(y_test,y_pred_rf))\n",
    "precisionrf = precision_score(y_test, y_pred_rf)\n",
    "recallrf = recall_score(y_test, y_pred_rf)\n",
    "print('rf Precision: ',precisionrf)\n",
    "print('rf Recall: ',recallrf)"
   ]
  },
  {
   "cell_type": "code",
   "execution_count": 157,
   "metadata": {},
   "outputs": [],
   "source": [
    "#Create new dataset with no 0s in fire area. Run regression on this.\n",
    "dfFires = df.loc[df['area'] >0]\n",
    "\n",
    "#Create predictor and target (Log Area) variables for this dataset\n",
    "\n",
    "X = dfFires[dfFires.columns[0:12]]\n",
    "X = pd.get_dummies(X)\n",
    "X = X._get_numeric_data()\n",
    "y = dfFires[dfFires.columns[14:15]]\n",
    "\n",
    "#Create train and test data sets for regression\n",
    "X_train, X_test, y_train, y_test = train_test_split(X, y, random_state=0) \n"
   ]
  },
  {
   "cell_type": "code",
   "execution_count": 158,
   "metadata": {},
   "outputs": [
    {
     "data": {
      "text/plain": [
       "Text(0.5, 1.0, 'MSE of test data at each depth')"
      ]
     },
     "execution_count": 158,
     "metadata": {},
     "output_type": "execute_result"
    },
    {
     "data": {
      "image/png": "[encoded data removed]",
      "text/plain": [
       "<Figure size 432x288 with 1 Axes>"
      ]
     },
     "metadata": {
      "needs_background": "light"
     },
     "output_type": "display_data"
    }
   ],
   "source": [
    "#Check mean square errors to ensure 100 estimators is enough.\n",
    "mseList = [0]\n",
    "for i in range (100,120):\n",
    "    forestReg = ensemble.RandomForestRegressor(n_estimators = i)\n",
    "\n",
    "    forestReg.fit(X_train, y_train.values.ravel())\n",
    "    y_pred = forestReg.predict(X_test)\n",
    "\n",
    "    mse = metrics.mean_squared_error(y_test, y_pred)\n",
    "    mseList.append(mse)\n",
    "   \n",
    "f, ax = plt.subplots()\n",
    "plt.plot(mseList)\n",
    "ax.set_xticklabels([\"0\", \"0\", \"100\", \"102.5\", \"105\", \"107.5\", \"110\", \"112.5\", \"115\", \"117.5\"])\n",
    "plt.title(\"MSE of test data at each depth\")"
   ]
  },
  {
   "cell_type": "code",
   "execution_count": 159,
   "metadata": {},
   "outputs": [
    {
     "name": "stdout",
     "output_type": "stream",
     "text": [
      "RMSE =  1.41943105796484\n",
      "R^2 = 0.4352966337653599\n"
     ]
    },
    {
     "data": {
      "image/png": "[encoded data removed]",
      "text/plain": [
       "<Figure size 432x288 with 1 Axes>"
      ]
     },
     "metadata": {
      "needs_background": "light"
     },
     "output_type": "display_data"
    }
   ],
   "source": [
    "from sklearn import ensemble\n",
    "\n",
    "#Random forest regression now\n",
    "\n",
    "forestReg = ensemble.RandomForestRegressor(n_estimators = 100)\n",
    "\n",
    "forestReg.fit(X_train, y_train.values.ravel())\n",
    "y_pred = forestReg.predict(X_test)\n",
    "\n",
    "\n",
    "n_scores = cross_val_score(forestReg, X_test, y_test.values.ravel(), scoring='neg_root_mean_squared_error')\n",
    "print(\"RMSE = \", (np.mean(n_scores)*-1))\n",
    "#Does not predict 0 as well but predicts high values slightly better\n",
    "x = range(1,len(y_test) + 1)\n",
    "\n",
    "plt.scatter(x, y_test)\n",
    "plt.scatter(x, y_pred, color = \"red\", alpha = 0.4)\n",
    "plt.ylabel('Area')\n",
    "plt.xlabel('Observation')\n",
    "plt.title(\"y test (blue) and random forest predictions (red)\")\n",
    "\n",
    "n_scores = cross_val_score(forestReg, X_test, y_test.values.ravel(), scoring='r2')\n",
    "print(\"R^2 =\",np.mean(n_scores)*-1)"
   ]
  }
 ],
 "metadata": {
  "kernelspec": {
   "display_name": "Python 3",
   "language": "python",
   "name": "python3"
  },
  "language_info": {
   "codemirror_mode": {
    "name": "ipython",
    "version": 3
   },
   "file_extension": ".py",
   "mimetype": "text/x-python",
   "name": "python",
   "nbconvert_exporter": "python",
   "pygments_lexer": "ipython3",
   "version": "3.7.6"
  }
 },
 "nbformat": 4,
 "nbformat_minor": 4
}
